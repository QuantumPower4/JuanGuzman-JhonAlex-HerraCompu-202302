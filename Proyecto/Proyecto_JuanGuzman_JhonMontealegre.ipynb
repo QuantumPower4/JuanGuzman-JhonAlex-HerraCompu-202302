{
  "cells": [
    {
      "cell_type": "code",
      "execution_count": 2,
      "metadata": {
        "id": "ZsCIIPWUkcY9"
      },
      "outputs": [],
      "source": [
        "import sympy as sym\n",
        "import numpy as np\n",
        "import pandas as pd\n",
        "import scipy\n",
        "import matplotlib.pyplot as plt"
      ]
    },
    {
      "cell_type": "markdown",
      "metadata": {
        "id": "bNd54DpflBbM"
      },
      "source": [
        "#ÍTEM 1"
      ]
    },
    {
      "cell_type": "markdown",
      "metadata": {
        "id": "7BobDgRHuV80"
      },
      "source": [
        "Punto 1"
      ]
    },
    {
      "cell_type": "code",
      "execution_count": 3,
      "metadata": {
        "id": "BJaM7fa3kyVv"
      },
      "outputs": [],
      "source": [
        "Loss_dt, g, W, G, C_rr, AC_d, rho, V_gs, V_hw = sym.symbols(\"Loss_dt, g, W, G, C_rr, AC_d, rho, V_gs, V_hw\")"
      ]
    },
    {
      "cell_type": "code",
      "execution_count": 4,
      "metadata": {
        "colab": {
          "base_uri": "https://localhost:8080/",
          "height": 85
        },
        "id": "8uEbpTnwlojU",
        "outputId": "23d804fc-be7a-4bd7-9a90-947ecfad0564"
      },
      "outputs": [
        {
          "data": {
            "text/latex": [
              "$\\displaystyle \\frac{V_{gs} \\left(0.5 AC_{d} \\rho \\left(V_{gs}^{2} + 2 V_{gs} V_{hw} + V_{hw}^{2}\\right) + \\frac{C_{rr} W g}{\\sqrt{\\frac{G^{2}}{10000} + 1}} + \\frac{G W g}{100 \\sqrt{\\frac{G^{2}}{10000} + 1}}\\right)}{1 - \\frac{Loss_{dt}}{100}}$"
            ],
            "text/plain": [
              "V_gs*(0.5*AC_d*rho*(V_gs**2 + 2*V_gs*V_hw + V_hw**2) + C_rr*W*g/sqrt(G**2/10000 + 1) + G*W*g/(100*sqrt(G**2/10000 + 1)))/(1 - Loss_dt/100)"
            ]
          },
          "execution_count": 4,
          "metadata": {},
          "output_type": "execute_result"
        }
      ],
      "source": [
        "P_legs = (1-Loss_dt/100)**(-1)*( g*W*sym.sin(sym.atan(G/100))+g*W*sym.cos(sym.atan(G/100))*C_rr + 0.5*AC_d*rho*(V_gs**2+2*V_gs*V_hw+V_hw**2))*V_gs\n",
        "P_legs"
      ]
    },
    {
      "cell_type": "code",
      "execution_count": 5,
      "metadata": {
        "colab": {
          "base_uri": "https://localhost:8080/",
          "height": 78
        },
        "id": "wprx_Mf2mJHm",
        "outputId": "04935b28-43f6-4094-dd58-112db00081d3"
      },
      "outputs": [
        {
          "data": {
            "text/latex": [
              "$\\displaystyle \\frac{0.5 AC_{d} V_{gs}^{3} \\rho}{1 - \\frac{Loss_{dt}}{100}} + \\frac{1.0 AC_{d} V_{gs}^{2} V_{hw} \\rho}{1 - \\frac{Loss_{dt}}{100}} + \\frac{0.5 AC_{d} V_{gs} V_{hw}^{2} \\rho}{1 - \\frac{Loss_{dt}}{100}} + \\frac{C_{rr} V_{gs} W g}{- \\frac{Loss_{dt} \\sqrt{\\frac{G^{2}}{10000} + 1}}{100} + \\sqrt{\\frac{G^{2}}{10000} + 1}} + \\frac{G V_{gs} W g}{- Loss_{dt} \\sqrt{\\frac{G^{2}}{10000} + 1} + 100 \\sqrt{\\frac{G^{2}}{10000} + 1}}$"
            ],
            "text/plain": [
              "0.5*AC_d*V_gs**3*rho/(1 - Loss_dt/100) + 1.0*AC_d*V_gs**2*V_hw*rho/(1 - Loss_dt/100) + 0.5*AC_d*V_gs*V_hw**2*rho/(1 - Loss_dt/100) + C_rr*V_gs*W*g/(-Loss_dt*sqrt(G**2/10000 + 1)/100 + sqrt(G**2/10000 + 1)) + G*V_gs*W*g/(-Loss_dt*sqrt(G**2/10000 + 1) + 100*sqrt(G**2/10000 + 1))"
            ]
          },
          "execution_count": 5,
          "metadata": {},
          "output_type": "execute_result"
        }
      ],
      "source": [
        "poly_form_almost = P_legs.expand(V_gs)\n",
        "poly_form_almost"
      ]
    },
    {
      "cell_type": "code",
      "execution_count": 6,
      "metadata": {
        "colab": {
          "base_uri": "https://localhost:8080/",
          "height": 90
        },
        "id": "P4ulKBjd0GF7",
        "outputId": "8712336b-9dbd-4e31-c2c0-a2df639866d4"
      },
      "outputs": [
        {
          "data": {
            "text/latex": [
              "$\\displaystyle \\frac{0.5 AC_{d} V_{gs}^{3} \\rho}{1 - \\frac{Loss_{dt}}{100}} + \\frac{1.0 AC_{d} V_{gs}^{2} V_{hw} \\rho}{1 - \\frac{Loss_{dt}}{100}} + V_{gs} \\left(\\frac{0.5 AC_{d} V_{hw}^{2} \\rho}{1 - \\frac{Loss_{dt}}{100}} + \\frac{C_{rr} W g}{- \\frac{Loss_{dt} \\sqrt{\\frac{G^{2}}{10000} + 1}}{100} + \\sqrt{\\frac{G^{2}}{10000} + 1}} + \\frac{G W g}{- Loss_{dt} \\sqrt{\\frac{G^{2}}{10000} + 1} + 100 \\sqrt{\\frac{G^{2}}{10000} + 1}}\\right)$"
            ],
            "text/plain": [
              "0.5*AC_d*V_gs**3*rho/(1 - Loss_dt/100) + 1.0*AC_d*V_gs**2*V_hw*rho/(1 - Loss_dt/100) + V_gs*(0.5*AC_d*V_hw**2*rho/(1 - Loss_dt/100) + C_rr*W*g/(-Loss_dt*sqrt(G**2/10000 + 1)/100 + sqrt(G**2/10000 + 1)) + G*W*g/(-Loss_dt*sqrt(G**2/10000 + 1) + 100*sqrt(G**2/10000 + 1)))"
            ]
          },
          "execution_count": 6,
          "metadata": {},
          "output_type": "execute_result"
        }
      ],
      "source": [
        "poly_form = 0.5*AC_d*V_gs**3*rho/(1 - Loss_dt/100) + 1.0*AC_d*V_gs**2*V_hw*rho/(1 - Loss_dt/100) + (0.5*AC_d*V_hw**2*rho/(1 - Loss_dt/100) + C_rr*W*g/(-Loss_dt*sym.sqrt(G**2/10000 + 1)/100 + sym.sqrt(G**2/10000 + 1)) + G*W*g/(-Loss_dt*sym.sqrt(G**2/10000 + 1) + 100*sym.sqrt(G**2/10000 + 1)))*V_gs\n",
        "poly_form"
      ]
    },
    {
      "cell_type": "markdown",
      "metadata": {
        "id": "rGa1fmYouY48"
      },
      "source": [
        "Punto 2"
      ]
    },
    {
      "cell_type": "code",
      "execution_count": 46,
      "metadata": {
        "id": "B_evvN8QuA3K"
      },
      "outputs": [
        {
          "data": {
            "text/latex": [
              "$\\displaystyle 0.21875 V_{gs}^{3} + V_{gs} \\left(\\frac{8.3244387755102 G}{\\sqrt{\\frac{G^{2}}{10000} + 1}} + \\frac{4.1622193877551}{\\sqrt{\\frac{G^{2}}{10000} + 1}}\\right)$"
            ],
            "text/plain": [
              "0.21875*V_gs**3 + V_gs*(8.3244387755102*G/sqrt(G**2/10000 + 1) + 4.1622193877551/sqrt(G**2/10000 + 1))"
            ]
          },
          "execution_count": 46,
          "metadata": {},
          "output_type": "execute_result"
        }
      ],
      "source": [
        "Pleggs = poly_form.subs([[C_rr,0.005],[V_hw,0],[AC_d,0.35],[Loss_dt,2],[rho,1.225],[W,83.5],[g,9.77]])\n",
        "Pleggs"
      ]
    },
    {
      "cell_type": "code",
      "execution_count": 39,
      "metadata": {
        "id": "42tX39ja5L7d"
      },
      "outputs": [],
      "source": [
        "puertos = pd.read_excel(\"data\\puertos.xlsx\")\n",
        "primera_grafica = puertos.loc[puertos[\"Primera gráfica\\nÚltimo dígito 1er estudiante\"]==1].reset_index()"
      ]
    },
    {
      "cell_type": "code",
      "execution_count": 48,
      "metadata": {},
      "outputs": [
        {
          "data": {
            "text/latex": [
              "$\\displaystyle 0.21875 V_{gs}^{3} + 47.3852793721144 V_{gs}$"
            ],
            "text/plain": [
              "0.21875*V_gs**3 + 47.3852793721144*V_gs"
            ]
          },
          "execution_count": 48,
          "metadata": {},
          "output_type": "execute_result"
        }
      ],
      "source": [
        "pendiente_1 = primera_grafica[\"Pendiente promedio [%]\"][0]\n",
        "Pleggs = Pleggs.subs(G,pendiente_1)\n",
        "Pleggs"
      ]
    },
    {
      "cell_type": "code",
      "execution_count": null,
      "metadata": {},
      "outputs": [],
      "source": []
    }
  ],
  "metadata": {
    "colab": {
      "provenance": []
    },
    "kernelspec": {
      "display_name": "Python 3",
      "name": "python3"
    },
    "language_info": {
      "codemirror_mode": {
        "name": "ipython",
        "version": 3
      },
      "file_extension": ".py",
      "mimetype": "text/x-python",
      "name": "python",
      "nbconvert_exporter": "python",
      "pygments_lexer": "ipython3",
      "version": "3.9.13"
    }
  },
  "nbformat": 4,
  "nbformat_minor": 0
}
