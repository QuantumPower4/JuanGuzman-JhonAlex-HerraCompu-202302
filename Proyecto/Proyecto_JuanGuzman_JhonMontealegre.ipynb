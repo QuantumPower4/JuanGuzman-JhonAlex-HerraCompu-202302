{
  "nbformat": 4,
  "nbformat_minor": 0,
  "metadata": {
    "colab": {
      "provenance": []
    },
    "kernelspec": {
      "name": "python3",
      "display_name": "Python 3"
    },
    "language_info": {
      "name": "python"
    }
  },
  "cells": [
    {
      "cell_type": "code",
      "execution_count": null,
      "metadata": {
        "id": "ZsCIIPWUkcY9"
      },
      "outputs": [],
      "source": [
        "import sympy as sym\n",
        "import numpy as np\n",
        "import pandas as pd\n",
        "import scipy\n",
        "import matplotlib.pyplot as plt"
      ]
    },
    {
      "cell_type": "markdown",
      "source": [
        "#ÍTEM 1"
      ],
      "metadata": {
        "id": "bNd54DpflBbM"
      }
    },
    {
      "cell_type": "markdown",
      "source": [
        "Punto 1"
      ],
      "metadata": {
        "id": "7BobDgRHuV80"
      }
    },
    {
      "cell_type": "code",
      "source": [
        "Loss_dt, g, W, G, C_rr, AC_d, rho, V_gs, V_hw = sym.symbols(\"Loss_dt, g, W, G, C_rr, AC_d, rho, V_gs, V_hw\")"
      ],
      "metadata": {
        "id": "BJaM7fa3kyVv"
      },
      "execution_count": null,
      "outputs": []
    },
    {
      "cell_type": "code",
      "source": [
        "P_legs = (1-Loss_dt/100)**(-1)*( g*W*sym.sin(sym.atan(G/100))+g*W*sym.cos(sym.atan(G/100))*C_rr + 0.5*AC_d*rho*(V_gs**2+2*V_gs*V_hw+V_hw**2))*V_gs\n",
        "P_legs"
      ],
      "metadata": {
        "id": "8uEbpTnwlojU",
        "colab": {
          "base_uri": "https://localhost:8080/",
          "height": 85
        },
        "outputId": "23d804fc-be7a-4bd7-9a90-947ecfad0564"
      },
      "execution_count": null,
      "outputs": [
        {
          "output_type": "execute_result",
          "data": {
            "text/plain": [
              "V_gs*(0.5*AC_d*rho*(V_gs**2 + 2*V_gs*V_hw + V_hw**2) + C_rr*W*g/sqrt(G**2/10000 + 1) + G*W*g/(100*sqrt(G**2/10000 + 1)))/(1 - Loss_dt/100)"
            ],
            "text/latex": "$\\displaystyle \\frac{V_{gs} \\left(0.5 AC_{d} \\rho \\left(V_{gs}^{2} + 2 V_{gs} V_{hw} + V_{hw}^{2}\\right) + \\frac{C_{rr} W g}{\\sqrt{\\frac{G^{2}}{10000} + 1}} + \\frac{G W g}{100 \\sqrt{\\frac{G^{2}}{10000} + 1}}\\right)}{1 - \\frac{Loss_{dt}}{100}}$"
          },
          "metadata": {},
          "execution_count": 27
        }
      ]
    },
    {
      "cell_type": "code",
      "source": [
        "poly_form_almost = P_legs.expand(V_gs)\n",
        "poly_form_almost"
      ],
      "metadata": {
        "colab": {
          "base_uri": "https://localhost:8080/",
          "height": 78
        },
        "id": "wprx_Mf2mJHm",
        "outputId": "04935b28-43f6-4094-dd58-112db00081d3"
      },
      "execution_count": null,
      "outputs": [
        {
          "output_type": "execute_result",
          "data": {
            "text/plain": [
              "0.5*AC_d*V_gs**3*rho/(1 - Loss_dt/100) + 1.0*AC_d*V_gs**2*V_hw*rho/(1 - Loss_dt/100) + 0.5*AC_d*V_gs*V_hw**2*rho/(1 - Loss_dt/100) + C_rr*V_gs*W*g/(-Loss_dt*sqrt(G**2/10000 + 1)/100 + sqrt(G**2/10000 + 1)) + G*V_gs*W*g/(-Loss_dt*sqrt(G**2/10000 + 1) + 100*sqrt(G**2/10000 + 1))"
            ],
            "text/latex": "$\\displaystyle \\frac{0.5 AC_{d} V_{gs}^{3} \\rho}{1 - \\frac{Loss_{dt}}{100}} + \\frac{1.0 AC_{d} V_{gs}^{2} V_{hw} \\rho}{1 - \\frac{Loss_{dt}}{100}} + \\frac{0.5 AC_{d} V_{gs} V_{hw}^{2} \\rho}{1 - \\frac{Loss_{dt}}{100}} + \\frac{C_{rr} V_{gs} W g}{- \\frac{Loss_{dt} \\sqrt{\\frac{G^{2}}{10000} + 1}}{100} + \\sqrt{\\frac{G^{2}}{10000} + 1}} + \\frac{G V_{gs} W g}{- Loss_{dt} \\sqrt{\\frac{G^{2}}{10000} + 1} + 100 \\sqrt{\\frac{G^{2}}{10000} + 1}}$"
          },
          "metadata": {},
          "execution_count": 26
        }
      ]
    },
    {
      "cell_type": "code",
      "source": [
        "poly_form = 0.5*AC_d*V_gs**3*rho/(1 - Loss_dt/100) + 1.0*AC_d*V_gs**2*V_hw*rho/(1 - Loss_dt/100) + (0.5*AC_d*V_hw**2*rho/(1 - Loss_dt/100) + C_rr*W*g/(-Loss_dt*sym.sqrt(G**2/10000 + 1)/100 + sym.sqrt(G**2/10000 + 1)) + G*W*g/(-Loss_dt*sym.sqrt(G**2/10000 + 1) + 100*sym.sqrt(G**2/10000 + 1)))*V_gs\n",
        "poly_form"
      ],
      "metadata": {
        "colab": {
          "base_uri": "https://localhost:8080/",
          "height": 90
        },
        "id": "P4ulKBjd0GF7",
        "outputId": "8712336b-9dbd-4e31-c2c0-a2df639866d4"
      },
      "execution_count": null,
      "outputs": [
        {
          "output_type": "execute_result",
          "data": {
            "text/plain": [
              "0.5*AC_d*V_gs**3*rho/(1 - Loss_dt/100) + 1.0*AC_d*V_gs**2*V_hw*rho/(1 - Loss_dt/100) + V_gs*(0.5*AC_d*V_hw**2*rho/(1 - Loss_dt/100) + C_rr*W*g/(-Loss_dt*sqrt(G**2/10000 + 1)/100 + sqrt(G**2/10000 + 1)) + G*W*g/(-Loss_dt*sqrt(G**2/10000 + 1) + 100*sqrt(G**2/10000 + 1)))"
            ],
            "text/latex": "$\\displaystyle \\frac{0.5 AC_{d} V_{gs}^{3} \\rho}{1 - \\frac{Loss_{dt}}{100}} + \\frac{1.0 AC_{d} V_{gs}^{2} V_{hw} \\rho}{1 - \\frac{Loss_{dt}}{100}} + V_{gs} \\left(\\frac{0.5 AC_{d} V_{hw}^{2} \\rho}{1 - \\frac{Loss_{dt}}{100}} + \\frac{C_{rr} W g}{- \\frac{Loss_{dt} \\sqrt{\\frac{G^{2}}{10000} + 1}}{100} + \\sqrt{\\frac{G^{2}}{10000} + 1}} + \\frac{G W g}{- Loss_{dt} \\sqrt{\\frac{G^{2}}{10000} + 1} + 100 \\sqrt{\\frac{G^{2}}{10000} + 1}}\\right)$"
          },
          "metadata": {},
          "execution_count": 43
        }
      ]
    },
    {
      "cell_type": "markdown",
      "source": [
        "Punto 2"
      ],
      "metadata": {
        "id": "rGa1fmYouY48"
      }
    },
    {
      "cell_type": "code",
      "source": [
        "Pleggs = poly_form.subs([[C_rr,0.005],[V_hw,0],[AC_d,0.35],[Loss_dt,2],[rho,1.225],[W,83.5],[g,9.77],[G,5.2]])"
      ],
      "metadata": {
        "id": "B_evvN8QuA3K"
      },
      "execution_count": null,
      "outputs": []
    },
    {
      "cell_type": "code",
      "source": [
        "vgs = np.linspace(0,10,100)\n",
        "Pleggs_ = sym.lambdify(V_gs,Pleggs)"
      ],
      "metadata": {
        "id": "pq728A_c1zeQ"
      },
      "execution_count": null,
      "outputs": []
    },
    {
      "cell_type": "code",
      "source": [
        "plt.plot(vgs,Pleggs_(vgs))"
      ],
      "metadata": {
        "colab": {
          "base_uri": "https://localhost:8080/",
          "height": 448
        },
        "id": "IhuTOZC45Afs",
        "outputId": "3ca338d7-1e2b-4c42-bffd-75414fddefc3"
      },
      "execution_count": null,
      "outputs": [
        {
          "output_type": "execute_result",
          "data": {
            "text/plain": [
              "[<matplotlib.lines.Line2D at 0x7ee7a49ace80>]"
            ]
          },
          "metadata": {},
          "execution_count": 55
        },
        {
          "output_type": "display_data",
          "data": {
            "text/plain": [
              "<Figure size 640x480 with 1 Axes>"
            ],
            "image/png": "[encoded data removed]"
          },
          "metadata": {}
        }
      ]
    },
    {
      "cell_type": "code",
      "source": [],
      "metadata": {
        "id": "42tX39ja5L7d"
      },
      "execution_count": null,
      "outputs": []
    }
  ]
}