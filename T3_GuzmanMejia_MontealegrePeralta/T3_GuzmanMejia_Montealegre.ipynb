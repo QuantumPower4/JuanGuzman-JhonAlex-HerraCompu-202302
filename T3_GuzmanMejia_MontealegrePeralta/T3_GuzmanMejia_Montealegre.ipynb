{
  "cells": [
    {
      "cell_type": "markdown",
      "id": "ea6e2bc4",
      "metadata": {
        "id": "ea6e2bc4"
      },
      "source": [
        "Estudiante 1: Juan José Guzmán Mejía\n",
        "\n",
        "Estudiante 2: Jhon Alex Montealegre\n",
        "\n",
        "----"
      ]
    },
    {
      "cell_type": "markdown",
      "id": "f09b1d95",
      "metadata": {
        "id": "f09b1d95"
      },
      "source": [
        "# Departamento de Ingeniería Mecánica\n",
        "## IMEC 2001 - Herramientas Computacionales\n",
        "### Taller 3 - Sistemas de Ecuaciones Ordinarias\n",
        "----\n",
        "### **<span style=\"color:#A1CCD1;\">Condiciones de la entrega </span>**\n",
        "----\n",
        "**1. Fechas de entrega:**\n",
        "- Nota sobre 5.00 ->  <span style=\"color:red;\">1 de Octubre a las 23:59, 2023</span>\n",
        "\n",
        "**2. Colocar el nombre de los integrantes en la casilla correspondiente<br>**\n",
        "**3. La entrega del taller es por Bloque Neon y se envía el archivo en formato de Jupyter Notebook (extensión `.ipynb`)<br>**\n",
        "**4. El nombre del archivo debe ser:**\n",
        "- Si trabajó en parejas:`T#_ApellidosIntegrante1_ApellidosIntegrante2` (Ej: `T#_Salamanca_VargasTorres`)\n",
        "- Si trabajó individual: `T#_Apellido` (Ej: `T#_VargasTorres`)\n",
        "\n",
        "**5. Comente el código con el proceso que realizó para llegar a la solución.<br>**\n",
        "**6. <span style=\"color:red;\"> Si se detecta copia con otro de los talleres enviados, automáticamente la nota para los grupos involucrados es 0. </span>**\n",
        "\n",
        "\n",
        "\n"
      ]
    },
    {
      "cell_type": "markdown",
      "id": "54dac631",
      "metadata": {
        "id": "54dac631"
      },
      "source": [
        "<a id=\"exercise3\"></a>\n",
        "## <font color=\"#276C9B\"> Actividad 1  </font>\n",
        "\n",
        "En los sistemas dinámicos bidimensionales para algunos casos se tienen los ciclos límite los cuales son una trayectoria cerrada en el espacio. A continuación tiene las ecuaciones de las que debe encontrar la solución para $x$ y $y$:\n",
        "\n",
        "$$y = - x' + x(1-x^2-y^2)$$\n",
        "$$-x = -y' + y(1-x^2-y^2)$$\n",
        "\n",
        "El ejercicio que debe realizar consta de los siguientes pasos:\n",
        "1. Reescriba la ecuación para que se exprese la primera derivada en términos de x y y.\n",
        "3. Especifique como condiciones iniciales:\n",
        "- x(0) = 0\n",
        "- y(0) = 1\n",
        "4. Especifique el tiempo en el que se va a estudiar la respuesta.\n",
        "4. Solucione el sistema ode.\n",
        "5. Debe realizar una gráfica interactiva teniendo en cuenta la solución encontrada en el literal anterior. Para esto utilice la siguiente función (lo que se encuentra comentado debe completarlo):\n",
        "\n",
        "```Python\n",
        "def f(alpha, t):\n",
        "    tiempo = # Completar\n",
        "    sol = # Completar\n",
        "    \n",
        "    w = 3\n",
        "    x = np.linspace(-w, w, 101)\n",
        "    y = np.linspace(-w, w, 101)\n",
        "    # full coordinate arrays\n",
        "    X, Y = np.meshgrid(x, y)\n",
        "    U = alpha*X - alpha*(X**2 + Y**2)*X - Y\n",
        "    V = alpha*Y - alpha*(X**2 + Y**2)*Y + X\n",
        "    \n",
        "    fig, ax = plt.subplots(figsize=(5,5))\n",
        "    ax.plot(# Completar con la solución encontrada)\n",
        "    ax.streamplot(X,Y,U,V)\n",
        "\n",
        "    formato_grafica(# Completar)\n",
        " ```\n",
        "Para poder desplegar la gráfica utilice la siguiente línea de código:\n",
        "```Python\n",
        " interact(f, alpha=(0, 1, 0.1), t=(0, 'Completar', 0.1))\n",
        " ```"
      ]
    },
    {
      "cell_type": "markdown",
      "id": "8Ms6NpSXnqaT",
      "metadata": {
        "id": "8Ms6NpSXnqaT"
      },
      "source": [
        "$$x' = - y + x(1-x^2-y^2)$$\n",
        "$$ y' = x + y(1-x^2-y^2)$$\n"
      ]
    },
    {
      "cell_type": "code",
      "execution_count": 1,
      "id": "zep2Nkc5oIoS",
      "metadata": {
        "id": "zep2Nkc5oIoS"
      },
      "outputs": [],
      "source": [
        "import numpy as np"
      ]
    },
    {
      "cell_type": "code",
      "execution_count": 2,
      "id": "-etw7R_MnJPE",
      "metadata": {
        "id": "-etw7R_MnJPE"
      },
      "outputs": [],
      "source": [
        "# Se creó una función que describe a\n",
        "# las ecuaciones diferenciales para poder\n",
        "# usar scipy correctamente\n",
        "\n",
        "def ode(variables, t):\n",
        "    # Variables\n",
        "    x = variables[0]\n",
        "    y = variables[1]\n",
        "\n",
        "    # Ecuaciones\n",
        "    dx_dt = -y + x*(1-x**2-y**2)\n",
        "    dy_dt = x + y*(1-x**2-y**2)\n",
        "\n",
        "    return [dx_dt, dy_dt]"
      ]
    },
    {
      "cell_type": "code",
      "execution_count": 3,
      "id": "OfqTRoaAn4ow",
      "metadata": {
        "colab": {
          "base_uri": "https://localhost:8080/"
        },
        "id": "OfqTRoaAn4ow",
        "outputId": "fbacb51b-0eaa-4dfd-9c1c-9cf433e2b0db"
      },
      "outputs": [
        {
          "data": {
            "text/plain": [
              "[0, 1]"
            ]
          },
          "execution_count": 3,
          "metadata": {},
          "output_type": "execute_result"
        }
      ],
      "source": [
        "condiciones_iniciales = [0, 1] # Condiciones iniciales de la ecuación diferencial\n",
        "condiciones_iniciales"
      ]
    },
    {
      "cell_type": "code",
      "execution_count": 4,
      "id": "uPDj1O6moDlG",
      "metadata": {
        "id": "uPDj1O6moDlG"
      },
      "outputs": [],
      "source": [
        "start = 0\n",
        "stop = 10\n",
        "num = 50\n",
        "# Esto hace referencia a desde qué tiempo a qué tiempo y\n",
        "# a cuantos pasos quiero la solucion numerica de la ecuacion diferencial"
      ]
    },
    {
      "cell_type": "code",
      "execution_count": 5,
      "id": "cxL5ueH4oDqG",
      "metadata": {
        "colab": {
          "base_uri": "https://localhost:8080/"
        },
        "id": "cxL5ueH4oDqG",
        "outputId": "ee6ad7ad-16ed-40ed-d03b-082dfd0dc8d6"
      },
      "outputs": [
        {
          "data": {
            "text/plain": [
              "array([ 0.        ,  0.20408163,  0.40816327,  0.6122449 ,  0.81632653,\n",
              "        1.02040816,  1.2244898 ,  1.42857143,  1.63265306,  1.83673469,\n",
              "        2.04081633,  2.24489796,  2.44897959,  2.65306122,  2.85714286,\n",
              "        3.06122449,  3.26530612,  3.46938776,  3.67346939,  3.87755102,\n",
              "        4.08163265,  4.28571429,  4.48979592,  4.69387755,  4.89795918,\n",
              "        5.10204082,  5.30612245,  5.51020408,  5.71428571,  5.91836735,\n",
              "        6.12244898,  6.32653061,  6.53061224,  6.73469388,  6.93877551,\n",
              "        7.14285714,  7.34693878,  7.55102041,  7.75510204,  7.95918367,\n",
              "        8.16326531,  8.36734694,  8.57142857,  8.7755102 ,  8.97959184,\n",
              "        9.18367347,  9.3877551 ,  9.59183673,  9.79591837, 10.        ])"
            ]
          },
          "execution_count": 5,
          "metadata": {},
          "output_type": "execute_result"
        }
      ],
      "source": [
        "tiempo = np.linspace(start, stop, num)\n",
        "tiempo"
      ]
    },
    {
      "cell_type": "code",
      "execution_count": 6,
      "id": "z-odY1ntoLWn",
      "metadata": {
        "id": "z-odY1ntoLWn"
      },
      "outputs": [],
      "source": [
        "import scipy\n",
        "sol = scipy.integrate.odeint(func=ode,\n",
        "                       y0=condiciones_iniciales,\n",
        "                       t=tiempo)"
      ]
    },
    {
      "cell_type": "code",
      "execution_count": 7,
      "id": "VKVRV8IxoY-i",
      "metadata": {
        "id": "VKVRV8IxoY-i"
      },
      "outputs": [],
      "source": [
        "import matplotlib.pyplot as plt\n",
        "\n",
        "def formato_grafica(titulo, ejex, ejey, leyenda=False, xlim=[None, None], ylim=[None, None]):\n",
        "    plt.rcParams['axes.axisbelow'] = True\n",
        "\n",
        "    plt.title(titulo, fontsize=15)\n",
        "    plt.ylabel(ejey, fontsize=13)\n",
        "    plt.xlabel(ejex, fontsize=13)\n",
        "\n",
        "    plt.tick_params(direction='out', length=5, width=0.75, grid_alpha=0.3)\n",
        "    plt.xticks(rotation=0)\n",
        "    plt.minorticks_on()\n",
        "    plt.ylim(ylim[0], ylim[1])\n",
        "    plt.xlim(xlim[0], xlim[1])\n",
        "    plt.grid(True)\n",
        "    plt.grid(visible=True, which='major', color='grey', linestyle='-')\n",
        "    plt.grid(visible=True, which='minor', color='lightgrey', linestyle='-', alpha=0.2)\n",
        "\n",
        "    if leyenda == True:\n",
        "        plt.legend(loc='best')\n",
        "\n",
        "    plt.tight_layout;\n",
        "\n",
        "def f(alpha, t):\n",
        "    w = 3\n",
        "    x = np.linspace(-w, w, 101)\n",
        "    y = np.linspace(-w, w, 101)\n",
        "    # full coordinate arrays\n",
        "    X, Y = np.meshgrid(x, y)\n",
        "    U = alpha*X - alpha*(X**2 + Y**2)*X - Y\n",
        "    V = alpha*Y - alpha*(X**2 + Y**2)*Y + X\n",
        "\n",
        "    fig, ax = plt.subplots(figsize=(5,5))\n",
        "    ax.plot(sol[:,0],sol[:,1]) #se usa la solucion dada por scipy para el eje x y eje y\n",
        "    ax.streamplot(X,Y,U,V)\n",
        "\n",
        "    formato_grafica(titulo='Comportamiento ODE',\n",
        "                ejex='Tiempo ($t$)',\n",
        "                ejey='$x(t)$',\n",
        "                leyenda=False)"
      ]
    },
    {
      "cell_type": "code",
      "execution_count": 8,
      "id": "BZJHpsPdepfO",
      "metadata": {
        "id": "BZJHpsPdepfO"
      },
      "outputs": [
        {
          "name": "stdout",
          "output_type": "stream",
          "text": [
            "Note: you may need to restart the kernel to use updated packages.\n"
          ]
        },
        {
          "name": "stderr",
          "output_type": "stream",
          "text": [
            "ERROR: Invalid requirement: '#Se'\n"
          ]
        }
      ],
      "source": [
        "%pip install ipywidgets #Se importó y descargó la libreria correspondiente para usar la gráfica interactiva"
      ]
    },
    {
      "cell_type": "code",
      "execution_count": 9,
      "id": "FQUlD230erUc",
      "metadata": {
        "id": "FQUlD230erUc"
      },
      "outputs": [],
      "source": [
        "import ipywidgets"
      ]
    },
    {
      "cell_type": "code",
      "execution_count": 10,
      "id": "somZlm-codOa",
      "metadata": {
        "colab": {
          "base_uri": "https://localhost:8080/",
          "height": 1000,
          "referenced_widgets": [
            "9a22877b035145f6af0164c505272adf",
            "03eaa5e90aab42d28a68dcc860f79129",
            "77581718367b45789d2d6370b0e16831",
            "3757415a8eb34b39b75eb387663b89e7",
            "d54b414e697c4edaa85bc8cfa0a777c4",
            "f64088025bd74b538a1e0956f5a07174",
            "06d6419c8be14f61a9cb690343b4b628",
            "bd9c49101d9549fd8c2b4eed9aae211f",
            "9268a12aa8c64df08c457c8bf89a826f",
            "a17123be52374f7f966308e519deac27"
          ]
        },
        "id": "somZlm-codOa",
        "outputId": "6a724832-b4ca-4f72-83ef-9e92a293cb44"
      },
      "outputs": [
        {
          "data": {
            "application/vnd.jupyter.widget-view+json": {
              "model_id": "c5da6d39b6084c4ea22c63baf2d65ca2",
              "version_major": 2,
              "version_minor": 0
            },
            "text/plain": [
              "interactive(children=(FloatSlider(value=0.0, description='alpha', max=1.0), FloatSlider(value=5.0, description…"
            ]
          },
          "metadata": {},
          "output_type": "display_data"
        },
        {
          "data": {
            "text/plain": [
              "<function __main__.f(alpha, t)>"
            ]
          },
          "execution_count": 10,
          "metadata": {},
          "output_type": "execute_result"
        }
      ],
      "source": [
        "ipywidgets.interact(f, alpha=(0, 1, 0.1), t=(0, 10, 0.1))"
      ]
    },
    {
      "cell_type": "markdown",
      "id": "7e91a521",
      "metadata": {
        "id": "7e91a521"
      },
      "source": [
        "1. Varie $\\alpha$ tres veces y comente los resultados.\n",
        "2. Varie el tiempo y comente lo que observa."
      ]
    },
    {
      "cell_type": "markdown",
      "id": "45894094",
      "metadata": {},
      "source": [
        "1. A medida que se aumenta el alpha, se incrementa la convergencia de las flechas del campo vectorial de la ecuación diferencial. En otras palabras, estas flechas se acercan más a la solución de esa ecuación diferencial con las condiciones iniciales dadas."
      ]
    }
  ],
  "metadata": {
    "colab": {
      "provenance": []
    },
    "kernelspec": {
      "display_name": "Python 3 (ipykernel)",
      "language": "python",
      "name": "python3"
    },
    "language_info": {
      "codemirror_mode": {
        "name": "ipython",
        "version": 3
      },
      "file_extension": ".py",
      "mimetype": "text/x-python",
      "name": "python",
      "nbconvert_exporter": "python",
      "pygments_lexer": "ipython3",
      "version": "3.9.13"
    },
    "widgets": {
      "application/vnd.jupyter.widget-state+json": {
        "03eaa5e90aab42d28a68dcc860f79129": {
          "model_module": "@jupyter-widgets/controls",
          "model_module_version": "1.5.0",
          "model_name": "FloatSliderModel",
          "state": {
            "_dom_classes": [],
            "_model_module": "@jupyter-widgets/controls",
            "_model_module_version": "1.5.0",
            "_model_name": "FloatSliderModel",
            "_view_count": null,
            "_view_module": "@jupyter-widgets/controls",
            "_view_module_version": "1.5.0",
            "_view_name": "FloatSliderView",
            "continuous_update": true,
            "description": "alpha",
            "description_tooltip": null,
            "disabled": false,
            "layout": "IPY_MODEL_f64088025bd74b538a1e0956f5a07174",
            "max": 1,
            "min": 0,
            "orientation": "horizontal",
            "readout": true,
            "readout_format": ".2f",
            "step": 0.1,
            "style": "IPY_MODEL_06d6419c8be14f61a9cb690343b4b628",
            "value": 0
          }
        },
        "06d6419c8be14f61a9cb690343b4b628": {
          "model_module": "@jupyter-widgets/controls",
          "model_module_version": "1.5.0",
          "model_name": "SliderStyleModel",
          "state": {
            "_model_module": "@jupyter-widgets/controls",
            "_model_module_version": "1.5.0",
            "_model_name": "SliderStyleModel",
            "_view_count": null,
            "_view_module": "@jupyter-widgets/base",
            "_view_module_version": "1.2.0",
            "_view_name": "StyleView",
            "description_width": "",
            "handle_color": null
          }
        },
        "3757415a8eb34b39b75eb387663b89e7": {
          "model_module": "@jupyter-widgets/output",
          "model_module_version": "1.0.0",
          "model_name": "OutputModel",
          "state": {
            "_dom_classes": [],
            "_model_module": "@jupyter-widgets/output",
            "_model_module_version": "1.0.0",
            "_model_name": "OutputModel",
            "_view_count": null,
            "_view_module": "@jupyter-widgets/output",
            "_view_module_version": "1.0.0",
            "_view_name": "OutputView",
            "layout": "IPY_MODEL_a17123be52374f7f966308e519deac27",
            "msg_id": "",
            "outputs": []
          }
        },
        "77581718367b45789d2d6370b0e16831": {
          "model_module": "@jupyter-widgets/controls",
          "model_module_version": "1.5.0",
          "model_name": "FloatSliderModel",
          "state": {
            "_dom_classes": [],
            "_model_module": "@jupyter-widgets/controls",
            "_model_module_version": "1.5.0",
            "_model_name": "FloatSliderModel",
            "_view_count": null,
            "_view_module": "@jupyter-widgets/controls",
            "_view_module_version": "1.5.0",
            "_view_name": "FloatSliderView",
            "continuous_update": true,
            "description": "t",
            "description_tooltip": null,
            "disabled": false,
            "layout": "IPY_MODEL_bd9c49101d9549fd8c2b4eed9aae211f",
            "max": 10,
            "min": 0,
            "orientation": "horizontal",
            "readout": true,
            "readout_format": ".2f",
            "step": 0.1,
            "style": "IPY_MODEL_9268a12aa8c64df08c457c8bf89a826f",
            "value": 5.8
          }
        },
        "9268a12aa8c64df08c457c8bf89a826f": {
          "model_module": "@jupyter-widgets/controls",
          "model_module_version": "1.5.0",
          "model_name": "SliderStyleModel",
          "state": {
            "_model_module": "@jupyter-widgets/controls",
            "_model_module_version": "1.5.0",
            "_model_name": "SliderStyleModel",
            "_view_count": null,
            "_view_module": "@jupyter-widgets/base",
            "_view_module_version": "1.2.0",
            "_view_name": "StyleView",
            "description_width": "",
            "handle_color": null
          }
        },
        "9a22877b035145f6af0164c505272adf": {
          "model_module": "@jupyter-widgets/controls",
          "model_module_version": "1.5.0",
          "model_name": "VBoxModel",
          "state": {
            "_dom_classes": [
              "widget-interact"
            ],
            "_model_module": "@jupyter-widgets/controls",
            "_model_module_version": "1.5.0",
            "_model_name": "VBoxModel",
            "_view_count": null,
            "_view_module": "@jupyter-widgets/controls",
            "_view_module_version": "1.5.0",
            "_view_name": "VBoxView",
            "box_style": "",
            "children": [
              "IPY_MODEL_03eaa5e90aab42d28a68dcc860f79129",
              "IPY_MODEL_77581718367b45789d2d6370b0e16831",
              "IPY_MODEL_3757415a8eb34b39b75eb387663b89e7"
            ],
            "layout": "IPY_MODEL_d54b414e697c4edaa85bc8cfa0a777c4"
          }
        },
        "a17123be52374f7f966308e519deac27": {
          "model_module": "@jupyter-widgets/base",
          "model_module_version": "1.2.0",
          "model_name": "LayoutModel",
          "state": {
            "_model_module": "@jupyter-widgets/base",
            "_model_module_version": "1.2.0",
            "_model_name": "LayoutModel",
            "_view_count": null,
            "_view_module": "@jupyter-widgets/base",
            "_view_module_version": "1.2.0",
            "_view_name": "LayoutView",
            "align_content": null,
            "align_items": null,
            "align_self": null,
            "border": null,
            "bottom": null,
            "display": null,
            "flex": null,
            "flex_flow": null,
            "grid_area": null,
            "grid_auto_columns": null,
            "grid_auto_flow": null,
            "grid_auto_rows": null,
            "grid_column": null,
            "grid_gap": null,
            "grid_row": null,
            "grid_template_areas": null,
            "grid_template_columns": null,
            "grid_template_rows": null,
            "height": null,
            "justify_content": null,
            "justify_items": null,
            "left": null,
            "margin": null,
            "max_height": null,
            "max_width": null,
            "min_height": null,
            "min_width": null,
            "object_fit": null,
            "object_position": null,
            "order": null,
            "overflow": null,
            "overflow_x": null,
            "overflow_y": null,
            "padding": null,
            "right": null,
            "top": null,
            "visibility": null,
            "width": null
          }
        },
        "bd9c49101d9549fd8c2b4eed9aae211f": {
          "model_module": "@jupyter-widgets/base",
          "model_module_version": "1.2.0",
          "model_name": "LayoutModel",
          "state": {
            "_model_module": "@jupyter-widgets/base",
            "_model_module_version": "1.2.0",
            "_model_name": "LayoutModel",
            "_view_count": null,
            "_view_module": "@jupyter-widgets/base",
            "_view_module_version": "1.2.0",
            "_view_name": "LayoutView",
            "align_content": null,
            "align_items": null,
            "align_self": null,
            "border": null,
            "bottom": null,
            "display": null,
            "flex": null,
            "flex_flow": null,
            "grid_area": null,
            "grid_auto_columns": null,
            "grid_auto_flow": null,
            "grid_auto_rows": null,
            "grid_column": null,
            "grid_gap": null,
            "grid_row": null,
            "grid_template_areas": null,
            "grid_template_columns": null,
            "grid_template_rows": null,
            "height": null,
            "justify_content": null,
            "justify_items": null,
            "left": null,
            "margin": null,
            "max_height": null,
            "max_width": null,
            "min_height": null,
            "min_width": null,
            "object_fit": null,
            "object_position": null,
            "order": null,
            "overflow": null,
            "overflow_x": null,
            "overflow_y": null,
            "padding": null,
            "right": null,
            "top": null,
            "visibility": null,
            "width": null
          }
        },
        "d54b414e697c4edaa85bc8cfa0a777c4": {
          "model_module": "@jupyter-widgets/base",
          "model_module_version": "1.2.0",
          "model_name": "LayoutModel",
          "state": {
            "_model_module": "@jupyter-widgets/base",
            "_model_module_version": "1.2.0",
            "_model_name": "LayoutModel",
            "_view_count": null,
            "_view_module": "@jupyter-widgets/base",
            "_view_module_version": "1.2.0",
            "_view_name": "LayoutView",
            "align_content": null,
            "align_items": null,
            "align_self": null,
            "border": null,
            "bottom": null,
            "display": null,
            "flex": null,
            "flex_flow": null,
            "grid_area": null,
            "grid_auto_columns": null,
            "grid_auto_flow": null,
            "grid_auto_rows": null,
            "grid_column": null,
            "grid_gap": null,
            "grid_row": null,
            "grid_template_areas": null,
            "grid_template_columns": null,
            "grid_template_rows": null,
            "height": null,
            "justify_content": null,
            "justify_items": null,
            "left": null,
            "margin": null,
            "max_height": null,
            "max_width": null,
            "min_height": null,
            "min_width": null,
            "object_fit": null,
            "object_position": null,
            "order": null,
            "overflow": null,
            "overflow_x": null,
            "overflow_y": null,
            "padding": null,
            "right": null,
            "top": null,
            "visibility": null,
            "width": null
          }
        },
        "f64088025bd74b538a1e0956f5a07174": {
          "model_module": "@jupyter-widgets/base",
          "model_module_version": "1.2.0",
          "model_name": "LayoutModel",
          "state": {
            "_model_module": "@jupyter-widgets/base",
            "_model_module_version": "1.2.0",
            "_model_name": "LayoutModel",
            "_view_count": null,
            "_view_module": "@jupyter-widgets/base",
            "_view_module_version": "1.2.0",
            "_view_name": "LayoutView",
            "align_content": null,
            "align_items": null,
            "align_self": null,
            "border": null,
            "bottom": null,
            "display": null,
            "flex": null,
            "flex_flow": null,
            "grid_area": null,
            "grid_auto_columns": null,
            "grid_auto_flow": null,
            "grid_auto_rows": null,
            "grid_column": null,
            "grid_gap": null,
            "grid_row": null,
            "grid_template_areas": null,
            "grid_template_columns": null,
            "grid_template_rows": null,
            "height": null,
            "justify_content": null,
            "justify_items": null,
            "left": null,
            "margin": null,
            "max_height": null,
            "max_width": null,
            "min_height": null,
            "min_width": null,
            "object_fit": null,
            "object_position": null,
            "order": null,
            "overflow": null,
            "overflow_x": null,
            "overflow_y": null,
            "padding": null,
            "right": null,
            "top": null,
            "visibility": null,
            "width": null
          }
        }
      }
    }
  },
  "nbformat": 4,
  "nbformat_minor": 5
}
