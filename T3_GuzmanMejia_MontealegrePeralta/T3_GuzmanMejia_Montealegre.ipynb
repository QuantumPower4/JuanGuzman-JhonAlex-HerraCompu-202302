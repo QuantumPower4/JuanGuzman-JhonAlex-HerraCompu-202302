{
  "cells": [
    {
      "cell_type": "markdown",
      "id": "ea6e2bc4",
      "metadata": {
        "id": "ea6e2bc4"
      },
      "source": [
        "Estudiante 1: Juan José Guzmán Mejía\n",
        "\n",
        "Estudiante 2: Jhon Alex Montealegre\n",
        "\n",
        "----"
      ]
    },
    {
      "cell_type": "markdown",
      "id": "f09b1d95",
      "metadata": {
        "id": "f09b1d95"
      },
      "source": [
        "# Departamento de Ingeniería Mecánica\n",
        "## IMEC 2001 - Herramientas Computacionales\n",
        "### Taller 3 - Sistemas de Ecuaciones Ordinarias\n",
        "----\n",
        "### **<span style=\"color:#A1CCD1;\">Condiciones de la entrega </span>**\n",
        "----\n",
        "**1. Fechas de entrega:**\n",
        "- Nota sobre 5.00 ->  <span style=\"color:red;\">1 de Octubre a las 23:59, 2023</span>\n",
        "\n",
        "**2. Colocar el nombre de los integrantes en la casilla correspondiente<br>**\n",
        "**3. La entrega del taller es por Bloque Neon y se envía el archivo en formato de Jupyter Notebook (extensión `.ipynb`)<br>**\n",
        "**4. El nombre del archivo debe ser:**\n",
        "- Si trabajó en parejas:`T#_ApellidosIntegrante1_ApellidosIntegrante2` (Ej: `T#_Salamanca_VargasTorres`)\n",
        "- Si trabajó individual: `T#_Apellido` (Ej: `T#_VargasTorres`)\n",
        "\n",
        "**5. Comente el código con el proceso que realizó para llegar a la solución.<br>**\n",
        "**6. <span style=\"color:red;\"> Si se detecta copia con otro de los talleres enviados, automáticamente la nota para los grupos involucrados es 0. </span>**\n",
        "\n",
        "\n",
        "\n"
      ]
    },
    {
      "cell_type": "markdown",
      "id": "54dac631",
      "metadata": {
        "id": "54dac631"
      },
      "source": [
        "<a id=\"exercise3\"></a>\n",
        "## <font color=\"#276C9B\"> Actividad 1  </font>\n",
        "\n",
        "En los sistemas dinámicos bidimensionales para algunos casos se tienen los ciclos límite los cuales son una trayectoria cerrada en el espacio. A continuación tiene las ecuaciones de las que debe encontrar la solución para $x$ y $y$:\n",
        "\n",
        "$$y = - x' + x(1-x^2-y^2)$$\n",
        "$$-x = -y' + y(1-x^2-y^2)$$\n",
        "\n",
        "El ejercicio que debe realizar consta de los siguientes pasos:\n",
        "1. Reescriba la ecuación para que se exprese la primera derivada en términos de x y y.\n",
        "3. Especifique como condiciones iniciales:\n",
        "- x(0) = 0\n",
        "- y(0) = 1\n",
        "4. Especifique el tiempo en el que se va a estudiar la respuesta.\n",
        "4. Solucione el sistema ode.\n",
        "5. Debe realizar una gráfica interactiva teniendo en cuenta la solución encontrada en el literal anterior. Para esto utilice la siguiente función (lo que se encuentra comentado debe completarlo):\n",
        "\n",
        "```Python\n",
        "def f(alpha, t):\n",
        "    tiempo = # Completar\n",
        "    sol = # Completar\n",
        "    \n",
        "    w = 3\n",
        "    x = np.linspace(-w, w, 101)\n",
        "    y = np.linspace(-w, w, 101)\n",
        "    # full coordinate arrays\n",
        "    X, Y = np.meshgrid(x, y)\n",
        "    U = alpha*X - alpha*(X**2 + Y**2)*X - Y\n",
        "    V = alpha*Y - alpha*(X**2 + Y**2)*Y + X\n",
        "    \n",
        "    fig, ax = plt.subplots(figsize=(5,5))\n",
        "    ax.plot(# Completar con la solución encontrada)\n",
        "    ax.streamplot(X,Y,U,V)\n",
        "\n",
        "    formato_grafica(# Completar)\n",
        " ```\n",
        "Para poder desplegar la gráfica utilice la siguiente línea de código:\n",
        "```Python\n",
        " interact(f, alpha=(0, 1, 0.1), t=(0, 'Completar', 0.1))\n",
        " ```"
      ]
    },
    {
      "cell_type": "markdown",
      "id": "8Ms6NpSXnqaT",
      "metadata": {
        "id": "8Ms6NpSXnqaT"
      },
      "source": [
        "$$x' = - y + x(1-x^2-y^2)$$\n",
        "$$ y' = x + y(1-x^2-y^2)$$\n"
      ]
    },
    {
      "cell_type": "code",
      "execution_count": 1,
      "id": "zep2Nkc5oIoS",
      "metadata": {
        "id": "zep2Nkc5oIoS"
      },
      "outputs": [],
      "source": [
        "import numpy as np"
      ]
    },
    {
      "cell_type": "code",
      "execution_count": 2,
      "id": "-etw7R_MnJPE",
      "metadata": {
        "id": "-etw7R_MnJPE"
      },
      "outputs": [],
      "source": [
        "def ode(variables, t):\n",
        "    # Variables\n",
        "    x = variables[0]\n",
        "    y = variables[1]\n",
        "\n",
        "    # Ecuaciones\n",
        "    dx_dt = -y + x*(1-x**2-y**2)\n",
        "    dy_dt = x + y*(1-x**2-y**2)\n",
        "\n",
        "    return [dx_dt, dy_dt]"
      ]
    },
    {
      "cell_type": "code",
      "execution_count": 3,
      "id": "OfqTRoaAn4ow",
      "metadata": {
        "colab": {
          "base_uri": "https://localhost:8080/"
        },
        "id": "OfqTRoaAn4ow",
        "outputId": "fbacb51b-0eaa-4dfd-9c1c-9cf433e2b0db"
      },
      "outputs": [
        {
          "data": {
            "text/plain": [
              "[0, 1]"
            ]
          },
          "execution_count": 3,
          "metadata": {},
          "output_type": "execute_result"
        }
      ],
      "source": [
        "condiciones_iniciales = [0, 1] # [x0, y0]\n",
        "condiciones_iniciales"
      ]
    },
    {
      "cell_type": "code",
      "execution_count": 4,
      "id": "uPDj1O6moDlG",
      "metadata": {
        "id": "uPDj1O6moDlG"
      },
      "outputs": [],
      "source": [
        "start = 0\n",
        "stop = 10\n",
        "num = 50"
      ]
    },
    {
      "cell_type": "code",
      "execution_count": 5,
      "id": "cxL5ueH4oDqG",
      "metadata": {
        "colab": {
          "base_uri": "https://localhost:8080/"
        },
        "id": "cxL5ueH4oDqG",
        "outputId": "ee6ad7ad-16ed-40ed-d03b-082dfd0dc8d6"
      },
      "outputs": [
        {
          "data": {
            "text/plain": [
              "array([ 0.        ,  0.20408163,  0.40816327,  0.6122449 ,  0.81632653,\n",
              "        1.02040816,  1.2244898 ,  1.42857143,  1.63265306,  1.83673469,\n",
              "        2.04081633,  2.24489796,  2.44897959,  2.65306122,  2.85714286,\n",
              "        3.06122449,  3.26530612,  3.46938776,  3.67346939,  3.87755102,\n",
              "        4.08163265,  4.28571429,  4.48979592,  4.69387755,  4.89795918,\n",
              "        5.10204082,  5.30612245,  5.51020408,  5.71428571,  5.91836735,\n",
              "        6.12244898,  6.32653061,  6.53061224,  6.73469388,  6.93877551,\n",
              "        7.14285714,  7.34693878,  7.55102041,  7.75510204,  7.95918367,\n",
              "        8.16326531,  8.36734694,  8.57142857,  8.7755102 ,  8.97959184,\n",
              "        9.18367347,  9.3877551 ,  9.59183673,  9.79591837, 10.        ])"
            ]
          },
          "execution_count": 5,
          "metadata": {},
          "output_type": "execute_result"
        }
      ],
      "source": [
        "tiempo = np.linspace(start, stop, num)\n",
        "tiempo"
      ]
    },
    {
      "cell_type": "code",
      "execution_count": 6,
      "id": "z-odY1ntoLWn",
      "metadata": {
        "id": "z-odY1ntoLWn"
      },
      "outputs": [],
      "source": [
        "import scipy\n",
        "sol = scipy.integrate.odeint(func=ode,\n",
        "                       y0=condiciones_iniciales,\n",
        "                       t=tiempo)"
      ]
    },
    {
      "cell_type": "code",
      "execution_count": 7,
      "id": "VKVRV8IxoY-i",
      "metadata": {
        "id": "VKVRV8IxoY-i"
      },
      "outputs": [],
      "source": [
        "import matplotlib.pyplot as plt\n",
        "\n",
        "def formato_grafica(titulo, ejex, ejey, leyenda=False, xlim=[None, None], ylim=[None, None]):\n",
        "    plt.rcParams['axes.axisbelow'] = True\n",
        "\n",
        "    plt.title(titulo, fontsize=15)\n",
        "    plt.ylabel(ejey, fontsize=13)\n",
        "    plt.xlabel(ejex, fontsize=13)\n",
        "\n",
        "    plt.tick_params(direction='out', length=5, width=0.75, grid_alpha=0.3)\n",
        "    plt.xticks(rotation=0)\n",
        "    plt.minorticks_on()\n",
        "    plt.ylim(ylim[0], ylim[1])\n",
        "    plt.xlim(xlim[0], xlim[1])\n",
        "    plt.grid(True)\n",
        "    plt.grid(visible=True, which='major', color='grey', linestyle='-')\n",
        "    plt.grid(visible=True, which='minor', color='lightgrey', linestyle='-', alpha=0.2)\n",
        "\n",
        "    if leyenda == True:\n",
        "        plt.legend(loc='best')\n",
        "\n",
        "    plt.tight_layout;\n",
        "\n",
        "def f(alpha, t):\n",
        "    w = 3\n",
        "    x = np.linspace(-w, w, 101)\n",
        "    y = np.linspace(-w, w, 101)\n",
        "    # full coordinate arrays\n",
        "    X, Y = np.meshgrid(x, y)\n",
        "    U = alpha*X - alpha*(X**2 + Y**2)*X - Y\n",
        "    V = alpha*Y - alpha*(X**2 + Y**2)*Y + X\n",
        "\n",
        "    fig, ax = plt.subplots(figsize=(5,5))\n",
        "    ax.plot(sol[:,0],sol[:,1])\n",
        "    ax.streamplot(X,Y,U,V)\n",
        "\n",
        "    formato_grafica(titulo='Comportamiento ODE',\n",
        "                ejex='Tiempo ($t$)',\n",
        "                ejey='$x(t)$',\n",
        "                leyenda=False)"
      ]
    },
    {
      "cell_type": "code",
      "execution_count": 8,
      "id": "BZJHpsPdepfO",
      "metadata": {
        "id": "BZJHpsPdepfO"
      },
      "outputs": [
        {
          "name": "stdout",
          "output_type": "stream",
          "text": [
            "Requirement already satisfied: ipywidgets in c:\\users\\acer\\anaconda3\\lib\\site-packages (7.6.5)\n",
            "Requirement already satisfied: nbformat>=4.2.0 in c:\\users\\acer\\anaconda3\\lib\\site-packages (from ipywidgets) (5.5.0)\n",
            "Requirement already satisfied: ipykernel>=4.5.1 in c:\\users\\acer\\anaconda3\\lib\\site-packages (from ipywidgets) (6.15.2)\n",
            "Requirement already satisfied: traitlets>=4.3.1 in c:\\users\\acer\\anaconda3\\lib\\site-packages (from ipywidgets) (5.1.1)\n",
            "Requirement already satisfied: jupyterlab-widgets>=1.0.0 in c:\\users\\acer\\anaconda3\\lib\\site-packages (from ipywidgets) (1.0.0)\n",
            "Requirement already satisfied: ipython>=4.0.0 in c:\\users\\acer\\anaconda3\\lib\\site-packages (from ipywidgets) (7.31.1)\n",
            "Requirement already satisfied: widgetsnbextension~=3.5.0 in c:\\users\\acer\\anaconda3\\lib\\site-packages (from ipywidgets) (3.5.2)\n",
            "Requirement already satisfied: ipython-genutils~=0.2.0 in c:\\users\\acer\\anaconda3\\lib\\site-packages (from ipywidgets) (0.2.0)\n",
            "Requirement already satisfied: nest-asyncio in c:\\users\\acer\\anaconda3\\lib\\site-packages (from ipykernel>=4.5.1->ipywidgets) (1.5.5)\n",
            "Requirement already satisfied: pyzmq>=17 in c:\\users\\acer\\anaconda3\\lib\\site-packages (from ipykernel>=4.5.1->ipywidgets) (23.2.0)\n",
            "Requirement already satisfied: jupyter-client>=6.1.12 in c:\\users\\acer\\anaconda3\\lib\\site-packages (from ipykernel>=4.5.1->ipywidgets) (7.3.4)\n",
            "Requirement already satisfied: packaging in c:\\users\\acer\\anaconda3\\lib\\site-packages (from ipykernel>=4.5.1->ipywidgets) (21.3)\n",
            "Requirement already satisfied: psutil in c:\\users\\acer\\anaconda3\\lib\\site-packages (from ipykernel>=4.5.1->ipywidgets) (5.9.0)\n",
            "Requirement already satisfied: matplotlib-inline>=0.1 in c:\\users\\acer\\anaconda3\\lib\\site-packages (from ipykernel>=4.5.1->ipywidgets) (0.1.6)\n",
            "Requirement already satisfied: debugpy>=1.0 in c:\\users\\acer\\anaconda3\\lib\\site-packages (from ipykernel>=4.5.1->ipywidgets) (1.5.1)\n",
            "Requirement already satisfied: tornado>=6.1 in c:\\users\\acer\\anaconda3\\lib\\site-packages (from ipykernel>=4.5.1->ipywidgets) (6.1)\n",
            "Requirement already satisfied: setuptools>=18.5 in c:\\users\\acer\\anaconda3\\lib\\site-packages (from ipython>=4.0.0->ipywidgets) (63.4.1)\n",
            "Requirement already satisfied: decorator in c:\\users\\acer\\anaconda3\\lib\\site-packages (from ipython>=4.0.0->ipywidgets) (5.1.1)\n",
            "Requirement already satisfied: jedi>=0.16 in c:\\users\\acer\\anaconda3\\lib\\site-packages (from ipython>=4.0.0->ipywidgets) (0.18.1)\n",
            "Requirement already satisfied: pickleshare in c:\\users\\acer\\anaconda3\\lib\\site-packages (from ipython>=4.0.0->ipywidgets) (0.7.5)\n",
            "Requirement already satisfied: backcall in c:\\users\\acer\\anaconda3\\lib\\site-packages (from ipython>=4.0.0->ipywidgets) (0.2.0)\n",
            "Requirement already satisfied: pygments in c:\\users\\acer\\anaconda3\\lib\\site-packages (from ipython>=4.0.0->ipywidgets) (2.11.2)\n",
            "Requirement already satisfied: colorama in c:\\users\\acer\\anaconda3\\lib\\site-packages (from ipython>=4.0.0->ipywidgets) (0.4.5)\n",
            "Requirement already satisfied: prompt-toolkit!=3.0.0,!=3.0.1,<3.1.0,>=2.0.0 in c:\\users\\acer\\anaconda3\\lib\\site-packages (from ipython>=4.0.0->ipywidgets) (3.0.20)\n",
            "Requirement already satisfied: jupyter_core in c:\\users\\acer\\anaconda3\\lib\\site-packages (from nbformat>=4.2.0->ipywidgets) (4.11.1)\n",
            "Requirement already satisfied: fastjsonschema in c:\\users\\acer\\anaconda3\\lib\\site-packages (from nbformat>=4.2.0->ipywidgets) (2.16.2)\n",
            "Requirement already satisfied: jsonschema>=2.6 in c:\\users\\acer\\anaconda3\\lib\\site-packages (from nbformat>=4.2.0->ipywidgets) (4.16.0)\n",
            "Requirement already satisfied: notebook>=4.4.1 in c:\\users\\acer\\anaconda3\\lib\\site-packages (from widgetsnbextension~=3.5.0->ipywidgets) (6.4.12)\n",
            "Requirement already satisfied: parso<0.9.0,>=0.8.0 in c:\\users\\acer\\anaconda3\\lib\\site-packages (from jedi>=0.16->ipython>=4.0.0->ipywidgets) (0.8.3)\n",
            "Requirement already satisfied: attrs>=17.4.0 in c:\\users\\acer\\anaconda3\\lib\\site-packages (from jsonschema>=2.6->nbformat>=4.2.0->ipywidgets) (21.4.0)\n",
            "Requirement already satisfied: pyrsistent!=0.17.0,!=0.17.1,!=0.17.2,>=0.14.0 in c:\\users\\acer\\anaconda3\\lib\\site-packages (from jsonschema>=2.6->nbformat>=4.2.0->ipywidgets) (0.18.0)\n",
            "Requirement already satisfied: entrypoints in c:\\users\\acer\\anaconda3\\lib\\site-packages (from jupyter-client>=6.1.12->ipykernel>=4.5.1->ipywidgets) (0.4)\n",
            "Requirement already satisfied: python-dateutil>=2.8.2 in c:\\users\\acer\\anaconda3\\lib\\site-packages (from jupyter-client>=6.1.12->ipykernel>=4.5.1->ipywidgets) (2.8.2)\n",
            "Requirement already satisfied: pywin32>=1.0 in c:\\users\\acer\\anaconda3\\lib\\site-packages (from jupyter_core->nbformat>=4.2.0->ipywidgets) (302)\n",
            "Requirement already satisfied: argon2-cffi in c:\\users\\acer\\anaconda3\\lib\\site-packages (from notebook>=4.4.1->widgetsnbextension~=3.5.0->ipywidgets) (21.3.0)\n",
            "Requirement already satisfied: nbconvert>=5 in c:\\users\\acer\\anaconda3\\lib\\site-packages (from notebook>=4.4.1->widgetsnbextension~=3.5.0->ipywidgets) (6.4.4)\n",
            "Requirement already satisfied: prometheus-client in c:\\users\\acer\\anaconda3\\lib\\site-packages (from notebook>=4.4.1->widgetsnbextension~=3.5.0->ipywidgets) (0.14.1)\n",
            "Requirement already satisfied: terminado>=0.8.3 in c:\\users\\acer\\anaconda3\\lib\\site-packages (from notebook>=4.4.1->widgetsnbextension~=3.5.0->ipywidgets) (0.13.1)\n",
            "Requirement already satisfied: jinja2 in c:\\users\\acer\\anaconda3\\lib\\site-packages (from notebook>=4.4.1->widgetsnbextension~=3.5.0->ipywidgets) (2.11.3)\n",
            "Requirement already satisfied: Send2Trash>=1.8.0 in c:\\users\\acer\\anaconda3\\lib\\site-packages (from notebook>=4.4.1->widgetsnbextension~=3.5.0->ipywidgets) (1.8.0)\n",
            "Requirement already satisfied: wcwidth in c:\\users\\acer\\anaconda3\\lib\\site-packages (from prompt-toolkit!=3.0.0,!=3.0.1,<3.1.0,>=2.0.0->ipython>=4.0.0->ipywidgets) (0.2.5)\n",
            "Requirement already satisfied: pyparsing!=3.0.5,>=2.0.2 in c:\\users\\acer\\anaconda3\\lib\\site-packages (from packaging->ipykernel>=4.5.1->ipywidgets) (3.0.9)\n",
            "Requirement already satisfied: mistune<2,>=0.8.1 in c:\\users\\acer\\anaconda3\\lib\\site-packages (from nbconvert>=5->notebook>=4.4.1->widgetsnbextension~=3.5.0->ipywidgets) (0.8.4)\n",
            "Requirement already satisfied: bleach in c:\\users\\acer\\anaconda3\\lib\\site-packages (from nbconvert>=5->notebook>=4.4.1->widgetsnbextension~=3.5.0->ipywidgets) (4.1.0)\n",
            "Requirement already satisfied: pandocfilters>=1.4.1 in c:\\users\\acer\\anaconda3\\lib\\site-packages (from nbconvert>=5->notebook>=4.4.1->widgetsnbextension~=3.5.0->ipywidgets) (1.5.0)\n",
            "Requirement already satisfied: beautifulsoup4 in c:\\users\\acer\\anaconda3\\lib\\site-packages (from nbconvert>=5->notebook>=4.4.1->widgetsnbextension~=3.5.0->ipywidgets) (4.11.1)\n",
            "Requirement already satisfied: testpath in c:\\users\\acer\\anaconda3\\lib\\site-packages (from nbconvert>=5->notebook>=4.4.1->widgetsnbextension~=3.5.0->ipywidgets) (0.6.0)\n",
            "Requirement already satisfied: nbclient<0.6.0,>=0.5.0 in c:\\users\\acer\\anaconda3\\lib\\site-packages (from nbconvert>=5->notebook>=4.4.1->widgetsnbextension~=3.5.0->ipywidgets) (0.5.13)\n",
            "Requirement already satisfied: defusedxml in c:\\users\\acer\\anaconda3\\lib\\site-packages (from nbconvert>=5->notebook>=4.4.1->widgetsnbextension~=3.5.0->ipywidgets) (0.7.1)\n",
            "Requirement already satisfied: jupyterlab-pygments in c:\\users\\acer\\anaconda3\\lib\\site-packages (from nbconvert>=5->notebook>=4.4.1->widgetsnbextension~=3.5.0->ipywidgets) (0.1.2)\n",
            "Requirement already satisfied: MarkupSafe>=0.23 in c:\\users\\acer\\anaconda3\\lib\\site-packages (from jinja2->notebook>=4.4.1->widgetsnbextension~=3.5.0->ipywidgets) (2.0.1)\n",
            "Requirement already satisfied: six>=1.5 in c:\\users\\acer\\anaconda3\\lib\\site-packages (from python-dateutil>=2.8.2->jupyter-client>=6.1.12->ipykernel>=4.5.1->ipywidgets) (1.16.0)\n",
            "Requirement already satisfied: pywinpty>=1.1.0 in c:\\users\\acer\\anaconda3\\lib\\site-packages (from terminado>=0.8.3->notebook>=4.4.1->widgetsnbextension~=3.5.0->ipywidgets) (2.0.2)\n",
            "Requirement already satisfied: argon2-cffi-bindings in c:\\users\\acer\\anaconda3\\lib\\site-packages (from argon2-cffi->notebook>=4.4.1->widgetsnbextension~=3.5.0->ipywidgets) (21.2.0)\n",
            "Requirement already satisfied: cffi>=1.0.1 in c:\\users\\acer\\anaconda3\\lib\\site-packages (from argon2-cffi-bindings->argon2-cffi->notebook>=4.4.1->widgetsnbextension~=3.5.0->ipywidgets) (1.15.1)\n",
            "Requirement already satisfied: soupsieve>1.2 in c:\\users\\acer\\anaconda3\\lib\\site-packages (from beautifulsoup4->nbconvert>=5->notebook>=4.4.1->widgetsnbextension~=3.5.0->ipywidgets) (2.3.1)\n",
            "Requirement already satisfied: webencodings in c:\\users\\acer\\anaconda3\\lib\\site-packages (from bleach->nbconvert>=5->notebook>=4.4.1->widgetsnbextension~=3.5.0->ipywidgets) (0.5.1)\n",
            "Requirement already satisfied: pycparser in c:\\users\\acer\\anaconda3\\lib\\site-packages (from cffi>=1.0.1->argon2-cffi-bindings->argon2-cffi->notebook>=4.4.1->widgetsnbextension~=3.5.0->ipywidgets) (2.21)\n"
          ]
        }
      ],
      "source": [
        "%pip install ipywidgets"
      ]
    },
    {
      "cell_type": "code",
      "execution_count": 9,
      "id": "FQUlD230erUc",
      "metadata": {
        "id": "FQUlD230erUc"
      },
      "outputs": [],
      "source": [
        "import ipywidgets"
      ]
    },
    {
      "cell_type": "code",
      "execution_count": 10,
      "id": "somZlm-codOa",
      "metadata": {
        "colab": {
          "base_uri": "https://localhost:8080/",
          "height": 1000,
          "referenced_widgets": [
            "9a22877b035145f6af0164c505272adf",
            "03eaa5e90aab42d28a68dcc860f79129",
            "77581718367b45789d2d6370b0e16831",
            "3757415a8eb34b39b75eb387663b89e7",
            "d54b414e697c4edaa85bc8cfa0a777c4",
            "f64088025bd74b538a1e0956f5a07174",
            "06d6419c8be14f61a9cb690343b4b628",
            "bd9c49101d9549fd8c2b4eed9aae211f",
            "9268a12aa8c64df08c457c8bf89a826f",
            "a17123be52374f7f966308e519deac27"
          ]
        },
        "id": "somZlm-codOa",
        "outputId": "6a724832-b4ca-4f72-83ef-9e92a293cb44"
      },
      "outputs": [
        {
          "data": {
            "application/vnd.jupyter.widget-view+json": {
              "model_id": "ec4753b7ac6e469db5e8a52f9aaa78e9",
              "version_major": 2,
              "version_minor": 0
            },
            "text/plain": [
              "interactive(children=(FloatSlider(value=0.0, description='alpha', max=1.0), FloatSlider(value=5.0, description…"
            ]
          },
          "metadata": {},
          "output_type": "display_data"
        },
        {
          "data": {
            "text/plain": [
              "<function __main__.f(alpha, t)>"
            ]
          },
          "execution_count": 10,
          "metadata": {},
          "output_type": "execute_result"
        }
      ],
      "source": [
        "ipywidgets.interact(f, alpha=(0, 1, 0.1), t=(0, 10, 0.1))"
      ]
    },
    {
      "cell_type": "markdown",
      "id": "7e91a521",
      "metadata": {
        "id": "7e91a521"
      },
      "source": [
        "1. Varie $\\alpha$ tres veces y comente los resultados.\n",
        "2. Varie el tiempo y comente lo que observa."
      ]
    }
  ],
  "metadata": {
    "colab": {
      "provenance": []
    },
    "kernelspec": {
      "display_name": "Python 3 (ipykernel)",
      "language": "python",
      "name": "python3"
    },
    "language_info": {
      "codemirror_mode": {
        "name": "ipython",
        "version": 3
      },
      "file_extension": ".py",
      "mimetype": "text/x-python",
      "name": "python",
      "nbconvert_exporter": "python",
      "pygments_lexer": "ipython3",
      "version": "3.9.13"
    },
    "widgets": {
      "application/vnd.jupyter.widget-state+json": {
        "03eaa5e90aab42d28a68dcc860f79129": {
          "model_module": "@jupyter-widgets/controls",
          "model_module_version": "1.5.0",
          "model_name": "FloatSliderModel",
          "state": {
            "_dom_classes": [],
            "_model_module": "@jupyter-widgets/controls",
            "_model_module_version": "1.5.0",
            "_model_name": "FloatSliderModel",
            "_view_count": null,
            "_view_module": "@jupyter-widgets/controls",
            "_view_module_version": "1.5.0",
            "_view_name": "FloatSliderView",
            "continuous_update": true,
            "description": "alpha",
            "description_tooltip": null,
            "disabled": false,
            "layout": "IPY_MODEL_f64088025bd74b538a1e0956f5a07174",
            "max": 1,
            "min": 0,
            "orientation": "horizontal",
            "readout": true,
            "readout_format": ".2f",
            "step": 0.1,
            "style": "IPY_MODEL_06d6419c8be14f61a9cb690343b4b628",
            "value": 0
          }
        },
        "06d6419c8be14f61a9cb690343b4b628": {
          "model_module": "@jupyter-widgets/controls",
          "model_module_version": "1.5.0",
          "model_name": "SliderStyleModel",
          "state": {
            "_model_module": "@jupyter-widgets/controls",
            "_model_module_version": "1.5.0",
            "_model_name": "SliderStyleModel",
            "_view_count": null,
            "_view_module": "@jupyter-widgets/base",
            "_view_module_version": "1.2.0",
            "_view_name": "StyleView",
            "description_width": "",
            "handle_color": null
          }
        },
        "3757415a8eb34b39b75eb387663b89e7": {
          "model_module": "@jupyter-widgets/output",
          "model_module_version": "1.0.0",
          "model_name": "OutputModel",
          "state": {
            "_dom_classes": [],
            "_model_module": "@jupyter-widgets/output",
            "_model_module_version": "1.0.0",
            "_model_name": "OutputModel",
            "_view_count": null,
            "_view_module": "@jupyter-widgets/output",
            "_view_module_version": "1.0.0",
            "_view_name": "OutputView",
            "layout": "IPY_MODEL_a17123be52374f7f966308e519deac27",
            "msg_id": "",
            "outputs": []
          }
        },
        "77581718367b45789d2d6370b0e16831": {
          "model_module": "@jupyter-widgets/controls",
          "model_module_version": "1.5.0",
          "model_name": "FloatSliderModel",
          "state": {
            "_dom_classes": [],
            "_model_module": "@jupyter-widgets/controls",
            "_model_module_version": "1.5.0",
            "_model_name": "FloatSliderModel",
            "_view_count": null,
            "_view_module": "@jupyter-widgets/controls",
            "_view_module_version": "1.5.0",
            "_view_name": "FloatSliderView",
            "continuous_update": true,
            "description": "t",
            "description_tooltip": null,
            "disabled": false,
            "layout": "IPY_MODEL_bd9c49101d9549fd8c2b4eed9aae211f",
            "max": 10,
            "min": 0,
            "orientation": "horizontal",
            "readout": true,
            "readout_format": ".2f",
            "step": 0.1,
            "style": "IPY_MODEL_9268a12aa8c64df08c457c8bf89a826f",
            "value": 5.8
          }
        },
        "9268a12aa8c64df08c457c8bf89a826f": {
          "model_module": "@jupyter-widgets/controls",
          "model_module_version": "1.5.0",
          "model_name": "SliderStyleModel",
          "state": {
            "_model_module": "@jupyter-widgets/controls",
            "_model_module_version": "1.5.0",
            "_model_name": "SliderStyleModel",
            "_view_count": null,
            "_view_module": "@jupyter-widgets/base",
            "_view_module_version": "1.2.0",
            "_view_name": "StyleView",
            "description_width": "",
            "handle_color": null
          }
        },
        "9a22877b035145f6af0164c505272adf": {
          "model_module": "@jupyter-widgets/controls",
          "model_module_version": "1.5.0",
          "model_name": "VBoxModel",
          "state": {
            "_dom_classes": [
              "widget-interact"
            ],
            "_model_module": "@jupyter-widgets/controls",
            "_model_module_version": "1.5.0",
            "_model_name": "VBoxModel",
            "_view_count": null,
            "_view_module": "@jupyter-widgets/controls",
            "_view_module_version": "1.5.0",
            "_view_name": "VBoxView",
            "box_style": "",
            "children": [
              "IPY_MODEL_03eaa5e90aab42d28a68dcc860f79129",
              "IPY_MODEL_77581718367b45789d2d6370b0e16831",
              "IPY_MODEL_3757415a8eb34b39b75eb387663b89e7"
            ],
            "layout": "IPY_MODEL_d54b414e697c4edaa85bc8cfa0a777c4"
          }
        },
        "a17123be52374f7f966308e519deac27": {
          "model_module": "@jupyter-widgets/base",
          "model_module_version": "1.2.0",
          "model_name": "LayoutModel",
          "state": {
            "_model_module": "@jupyter-widgets/base",
            "_model_module_version": "1.2.0",
            "_model_name": "LayoutModel",
            "_view_count": null,
            "_view_module": "@jupyter-widgets/base",
            "_view_module_version": "1.2.0",
            "_view_name": "LayoutView",
            "align_content": null,
            "align_items": null,
            "align_self": null,
            "border": null,
            "bottom": null,
            "display": null,
            "flex": null,
            "flex_flow": null,
            "grid_area": null,
            "grid_auto_columns": null,
            "grid_auto_flow": null,
            "grid_auto_rows": null,
            "grid_column": null,
            "grid_gap": null,
            "grid_row": null,
            "grid_template_areas": null,
            "grid_template_columns": null,
            "grid_template_rows": null,
            "height": null,
            "justify_content": null,
            "justify_items": null,
            "left": null,
            "margin": null,
            "max_height": null,
            "max_width": null,
            "min_height": null,
            "min_width": null,
            "object_fit": null,
            "object_position": null,
            "order": null,
            "overflow": null,
            "overflow_x": null,
            "overflow_y": null,
            "padding": null,
            "right": null,
            "top": null,
            "visibility": null,
            "width": null
          }
        },
        "bd9c49101d9549fd8c2b4eed9aae211f": {
          "model_module": "@jupyter-widgets/base",
          "model_module_version": "1.2.0",
          "model_name": "LayoutModel",
          "state": {
            "_model_module": "@jupyter-widgets/base",
            "_model_module_version": "1.2.0",
            "_model_name": "LayoutModel",
            "_view_count": null,
            "_view_module": "@jupyter-widgets/base",
            "_view_module_version": "1.2.0",
            "_view_name": "LayoutView",
            "align_content": null,
            "align_items": null,
            "align_self": null,
            "border": null,
            "bottom": null,
            "display": null,
            "flex": null,
            "flex_flow": null,
            "grid_area": null,
            "grid_auto_columns": null,
            "grid_auto_flow": null,
            "grid_auto_rows": null,
            "grid_column": null,
            "grid_gap": null,
            "grid_row": null,
            "grid_template_areas": null,
            "grid_template_columns": null,
            "grid_template_rows": null,
            "height": null,
            "justify_content": null,
            "justify_items": null,
            "left": null,
            "margin": null,
            "max_height": null,
            "max_width": null,
            "min_height": null,
            "min_width": null,
            "object_fit": null,
            "object_position": null,
            "order": null,
            "overflow": null,
            "overflow_x": null,
            "overflow_y": null,
            "padding": null,
            "right": null,
            "top": null,
            "visibility": null,
            "width": null
          }
        },
        "d54b414e697c4edaa85bc8cfa0a777c4": {
          "model_module": "@jupyter-widgets/base",
          "model_module_version": "1.2.0",
          "model_name": "LayoutModel",
          "state": {
            "_model_module": "@jupyter-widgets/base",
            "_model_module_version": "1.2.0",
            "_model_name": "LayoutModel",
            "_view_count": null,
            "_view_module": "@jupyter-widgets/base",
            "_view_module_version": "1.2.0",
            "_view_name": "LayoutView",
            "align_content": null,
            "align_items": null,
            "align_self": null,
            "border": null,
            "bottom": null,
            "display": null,
            "flex": null,
            "flex_flow": null,
            "grid_area": null,
            "grid_auto_columns": null,
            "grid_auto_flow": null,
            "grid_auto_rows": null,
            "grid_column": null,
            "grid_gap": null,
            "grid_row": null,
            "grid_template_areas": null,
            "grid_template_columns": null,
            "grid_template_rows": null,
            "height": null,
            "justify_content": null,
            "justify_items": null,
            "left": null,
            "margin": null,
            "max_height": null,
            "max_width": null,
            "min_height": null,
            "min_width": null,
            "object_fit": null,
            "object_position": null,
            "order": null,
            "overflow": null,
            "overflow_x": null,
            "overflow_y": null,
            "padding": null,
            "right": null,
            "top": null,
            "visibility": null,
            "width": null
          }
        },
        "f64088025bd74b538a1e0956f5a07174": {
          "model_module": "@jupyter-widgets/base",
          "model_module_version": "1.2.0",
          "model_name": "LayoutModel",
          "state": {
            "_model_module": "@jupyter-widgets/base",
            "_model_module_version": "1.2.0",
            "_model_name": "LayoutModel",
            "_view_count": null,
            "_view_module": "@jupyter-widgets/base",
            "_view_module_version": "1.2.0",
            "_view_name": "LayoutView",
            "align_content": null,
            "align_items": null,
            "align_self": null,
            "border": null,
            "bottom": null,
            "display": null,
            "flex": null,
            "flex_flow": null,
            "grid_area": null,
            "grid_auto_columns": null,
            "grid_auto_flow": null,
            "grid_auto_rows": null,
            "grid_column": null,
            "grid_gap": null,
            "grid_row": null,
            "grid_template_areas": null,
            "grid_template_columns": null,
            "grid_template_rows": null,
            "height": null,
            "justify_content": null,
            "justify_items": null,
            "left": null,
            "margin": null,
            "max_height": null,
            "max_width": null,
            "min_height": null,
            "min_width": null,
            "object_fit": null,
            "object_position": null,
            "order": null,
            "overflow": null,
            "overflow_x": null,
            "overflow_y": null,
            "padding": null,
            "right": null,
            "top": null,
            "visibility": null,
            "width": null
          }
        }
      }
    }
  },
  "nbformat": 4,
  "nbformat_minor": 5
}
